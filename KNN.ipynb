{
 "cells": [
  {
   "cell_type": "code",
   "execution_count": 3,
   "id": "73765fdc",
   "metadata": {},
   "outputs": [
    {
     "ename": "FileNotFoundError",
     "evalue": "[WinError 3] The system cannot find the path specified: 'Desert'",
     "output_type": "error",
     "traceback": [
      "\u001b[1;31m---------------------------------------------------------------------------\u001b[0m",
      "\u001b[1;31mFileNotFoundError\u001b[0m                         Traceback (most recent call last)",
      "Input \u001b[1;32mIn [3]\u001b[0m, in \u001b[0;36m<cell line: 5>\u001b[1;34m()\u001b[0m\n\u001b[0;32m      3\u001b[0m \u001b[38;5;28;01mimport\u001b[39;00m \u001b[38;5;21;01mcv2\u001b[39;00m\n\u001b[0;32m      4\u001b[0m \u001b[38;5;28;01mimport\u001b[39;00m \u001b[38;5;21;01mos\u001b[39;00m\n\u001b[1;32m----> 5\u001b[0m directory1 \u001b[38;5;241m=\u001b[39m \u001b[43mos\u001b[49m\u001b[38;5;241;43m.\u001b[39;49m\u001b[43mlistdir\u001b[49m\u001b[43m(\u001b[49m\u001b[38;5;124;43m'\u001b[39;49m\u001b[38;5;124;43mDesert\u001b[39;49m\u001b[38;5;124;43m'\u001b[39;49m\u001b[43m)\u001b[49m\n\u001b[0;32m      6\u001b[0m directory2 \u001b[38;5;241m=\u001b[39m os\u001b[38;5;241m.\u001b[39mlistdir(\u001b[38;5;124m'\u001b[39m\u001b[38;5;124mSnow\u001b[39m\u001b[38;5;124m'\u001b[39m)\n\u001b[0;32m      7\u001b[0m directory \u001b[38;5;241m=\u001b[39m \u001b[38;5;124m'\u001b[39m\u001b[38;5;124mnew\u001b[39m\u001b[38;5;124m'\u001b[39m\n",
      "\u001b[1;31mFileNotFoundError\u001b[0m: [WinError 3] The system cannot find the path specified: 'Desert'"
     ]
    }
   ],
   "source": [
    "import numpy as np\n",
    "import pandas as pd\n",
    "import cv2\n",
    "import os\n",
    "directory1 = os.listdir('Desert')\n",
    "directory2 = os.listdir('Snow')\n",
    "directory = 'new'\n",
    "directory3= 'new2'\n",
    "r=len(directory1)\n",
    "for itr in range(0,r-1):\n",
    "    f1='Desert\\\\'+directory1[itr]\n",
    "    f2='Snow\\\\'+directory2[itr]\n",
    "#     print(f1);\n",
    "#     print(f2);\n",
    "    img1=cv2.imread(f1)\n",
    "    img2=cv2.imread(f2)\n",
    "    stretch_near1 = cv2.resize(img1, (200, 200),\n",
    "               interpolation = cv2.INTER_NEAREST)\n",
    "    stretch_near2 = cv2.resize(img2, (200, 200),\n",
    "               interpolation = cv2.INTER_NEAREST)\n",
    "    filename='t'+ str(itr)\n",
    "#     os.chdir(directory)\n",
    "    cv2.imwrite(filename, img1)\n",
    "#     os.chdir(directory)\n",
    "#     cv2.imwrite(filename, img2)\n",
    "    \n",
    "  \n"
   ]
  },
  {
   "cell_type": "code",
   "execution_count": 1,
   "id": "b5e057d7",
   "metadata": {},
   "outputs": [
    {
     "data": {
      "image/png": "[encoded data removed]",
      "text/plain": [
       "<Figure size 432x288 with 1 Axes>"
      ]
     },
     "metadata": {
      "needs_background": "light"
     },
     "output_type": "display_data"
    },
    {
     "name": "stdout",
     "output_type": "stream",
     "text": [
      "Snow\n",
      "[(14802.87313328058, 'desert'), (16307.297844830087, 'snow'), (16559.912560155622, 'snow'), (19390.88347652061, 'snow'), (22973.737419061792, 'snow'), (23776.294980505267, 'snow'), (23926.78049801101, 'desert'), (25387.32159957013, 'snow'), (26817.709671036413, 'snow'), (27683.061355276444, 'snow'), (27922.76666091668, 'desert'), (30540.929422661648, 'desert'), (32634.429870920067, 'desert'), (34072.66357360399, 'snow'), (34184.496456727284, 'desert'), (34713.63127072706, 'desert'), (39649.65731251659, 'desert'), (39775.39094716732, 'desert')]\n"
     ]
    }
   ],
   "source": [
    "import numpy as np\n",
    "import pandas as pd\n",
    "import os\n",
    "import cv2\n",
    "import math\n",
    "import matplotlib.pyplot as plt\n",
    "\n",
    "def prec(img1,cls):\n",
    "    a=np.array(img1)\n",
    "    ax = a.reshape(-1, a.shape[-1])\n",
    "    c=ax.flatten() \n",
    "    ret=np.append(c,cls);\n",
    "    return ret;\n",
    "    \n",
    "directory1 = os.listdir('Desert')\n",
    "directory2 = os.listdir('Snow')\n",
    "\n",
    "r=len(directory1)\n",
    "\n",
    "count=0;\n",
    "a = []\n",
    "b = []\n",
    "\n",
    "min1=1434345663567\n",
    "\n",
    "for itr in range(0,r-1):\n",
    "    f1='Desert\\\\'+directory1[itr]\n",
    "    f2='Snow\\\\'+directory2[itr]\n",
    "#     print(f1);\n",
    "#     print(f2);\n",
    "    img1=cv2.imread(f1)\n",
    "    img2=cv2.imread(f2)\n",
    "    img1.resize(300,300);\n",
    "    img2.resize(300,300);\n",
    "    temp=prec(img1,\"desert\")\n",
    "    min1=min(min1,temp.shape[0])\n",
    "    a.append(temp)\n",
    "    temp=prec(img2,\"snow\")\n",
    "    min1=min(min1,temp.shape[0])\n",
    "    b.append(temp)\n",
    "#     cv2.imshow('image', img2);\n",
    "#     cv2.imshow('image', img1);\n",
    "#     cv2.waitKey(0)        \n",
    "#     cv2.destroyAllWindows()\n",
    "dis=[]\n",
    "testImg=cv2.imread('test4.jpg')\n",
    "testImg.resize(300,300);\n",
    "x=prec(testImg,\"no\")\n",
    "min1=min(min1,x.shape[0])\n",
    "dis1=[]\n",
    "dis2=[]\n",
    "for itr in a:\n",
    "    d=0\n",
    "    for itr1 in range(min1-1):\n",
    "        d=d+(int(itr[itr1])-int(x[itr1]))**2\n",
    "    d=math.sqrt(d)\n",
    "    dis1.append(d)\n",
    "    tup=(d,\"desert\")\n",
    "    dis.append(tup)\n",
    "for itr in b:\n",
    "    d=0\n",
    "    for itr1 in range(min1-1):\n",
    "        d=d+(int(itr[itr1])-int(x[itr1]))**2\n",
    "    d=math.sqrt(d)\n",
    "    dis2.append(d)\n",
    "    tup=(d,\"snow\")\n",
    "    dis.append(tup)\n",
    "dis.sort()\n",
    "\n",
    "dCount=0;\n",
    "sCount=0;\n",
    "for itr in range(5):\n",
    "    if dis[itr][1]==\"snow\":\n",
    "        sCount+=1\n",
    "    elif dis[itr][1]==\"desert\":\n",
    "        dCount+=1\n",
    "fig, ax = plt.subplots()\n",
    "zer=np.zeros(9)\n",
    "ax.scatter(dis1,zer,color=\"blue\")\n",
    "ax.scatter(dis2,zer, color=\"red\")\n",
    "plt.show()\n",
    "if(sCount>dCount):\n",
    "    print(\"Snow\")\n",
    "else:\n",
    "    print(\"Desert\")\n",
    "print(dis)\n",
    "    \n",
    "    \n",
    "   \n",
    "\n",
    " \n"
   ]
  },
  {
   "cell_type": "code",
   "execution_count": null,
   "id": "9967f311",
   "metadata": {},
   "outputs": [],
   "source": []
  },
  {
   "cell_type": "code",
   "execution_count": null,
   "id": "0d7dfb5d",
   "metadata": {},
   "outputs": [],
   "source": []
  }
 ],
 "metadata": {
  "kernelspec": {
   "display_name": "Python 3 (ipykernel)",
   "language": "python",
   "name": "python3"
  },
  "language_info": {
   "codemirror_mode": {
    "name": "ipython",
    "version": 3
   },
   "file_extension": ".py",
   "mimetype": "text/x-python",
   "name": "python",
   "nbconvert_exporter": "python",
   "pygments_lexer": "ipython3",
   "version": "3.10.2"
  }
 },
 "nbformat": 4,
 "nbformat_minor": 5
}
