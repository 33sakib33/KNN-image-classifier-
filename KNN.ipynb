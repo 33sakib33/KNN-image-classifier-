{
 "cells": [
  {
   "cell_type": "code",
   "execution_count": 1,
   "id": "73765fdc",
   "metadata": {},
   "outputs": [
    {
     "ename": "AttributeError",
     "evalue": "'NoneType' object has no attribute 'shape'",
     "output_type": "error",
     "traceback": [
      "\u001b[1;31m---------------------------------------------------------------------------\u001b[0m",
      "\u001b[1;31mAttributeError\u001b[0m                            Traceback (most recent call last)",
      "\u001b[1;32m~\\AppData\\Local\\Temp/ipykernel_9048/1969122914.py\u001b[0m in \u001b[0;36m<module>\u001b[1;34m\u001b[0m\n\u001b[0;32m      3\u001b[0m \u001b[1;32mimport\u001b[0m \u001b[0mcv2\u001b[0m\u001b[1;33m\u001b[0m\u001b[1;33m\u001b[0m\u001b[0m\n\u001b[0;32m      4\u001b[0m \u001b[0mimg1\u001b[0m\u001b[1;33m=\u001b[0m\u001b[0mcv2\u001b[0m\u001b[1;33m.\u001b[0m\u001b[0mimread\u001b[0m\u001b[1;33m(\u001b[0m\u001b[1;34m'desert.jpg'\u001b[0m\u001b[1;33m)\u001b[0m\u001b[1;33m\u001b[0m\u001b[1;33m\u001b[0m\u001b[0m\n\u001b[1;32m----> 5\u001b[1;33m \u001b[1;33m(\u001b[0m\u001b[0mrow\u001b[0m\u001b[1;33m,\u001b[0m \u001b[0mcol\u001b[0m\u001b[1;33m)\u001b[0m \u001b[1;33m=\u001b[0m \u001b[0mimg1\u001b[0m\u001b[1;33m.\u001b[0m\u001b[0mshape\u001b[0m\u001b[1;33m[\u001b[0m\u001b[1;36m0\u001b[0m\u001b[1;33m:\u001b[0m\u001b[1;36m2\u001b[0m\u001b[1;33m]\u001b[0m\u001b[1;33m\u001b[0m\u001b[1;33m\u001b[0m\u001b[0m\n\u001b[0m\u001b[0;32m      6\u001b[0m \u001b[1;32mfor\u001b[0m \u001b[0mx\u001b[0m \u001b[1;32min\u001b[0m \u001b[0mrange\u001b[0m\u001b[1;33m(\u001b[0m\u001b[0mrow\u001b[0m\u001b[1;33m)\u001b[0m\u001b[1;33m:\u001b[0m\u001b[1;33m\u001b[0m\u001b[1;33m\u001b[0m\u001b[0m\n\u001b[0;32m      7\u001b[0m     \u001b[1;32mfor\u001b[0m \u001b[0my\u001b[0m \u001b[1;32min\u001b[0m \u001b[0mrange\u001b[0m\u001b[1;33m(\u001b[0m\u001b[0mcol\u001b[0m\u001b[1;33m)\u001b[0m\u001b[1;33m:\u001b[0m\u001b[1;33m\u001b[0m\u001b[1;33m\u001b[0m\u001b[0m\n",
      "\u001b[1;31mAttributeError\u001b[0m: 'NoneType' object has no attribute 'shape'"
     ]
    }
   ],
   "source": [
    "import numpy as np\n",
    "import pandas as pd\n",
    "import cv2\n",
    "img1=cv2.imread('desert.jpg')\n",
    "(row, col) = img1.shape[0:2]\n",
    "for x in range(row):\n",
    "    for y in range(col):\n",
    "        id1=img1[x,y,0];\n",
    "        id2=img1[x,y,1];\n",
    "        id3=img1[x,y,2];\n",
    "        if thresh[id1][id2][id3]>.15:\n",
    "            img1[x,y,0]=255\n",
    "            img1[x,y,1]=255\n",
    "            img1[x,y,2]=255\n",
    "        else:\n",
    "            img1[x,y,0]=0\n",
    "            img1[x,y,1]=0\n",
    "            img1[x,y,2]=0\n"
   ]
  },
  {
   "cell_type": "code",
   "execution_count": 2,
   "id": "b5e057d7",
   "metadata": {},
   "outputs": [
    {
     "data": {
      "image/png": "[encoded data removed]",
      "text/plain": [
       "<Figure size 432x288 with 1 Axes>"
      ]
     },
     "metadata": {
      "needs_background": "light"
     },
     "output_type": "display_data"
    },
    {
     "name": "stdout",
     "output_type": "stream",
     "text": [
      "Snow\n",
      "[(54905.30957020459, 'snow'), (57875.3967416207, 'snow'), (60253.14396776321, 'snow'), (61753.653163193514, 'snow'), (64483.05072652813, 'snow'), (66578.47578609771, 'snow'), (68736.67378481447, 'snow'), (70309.81479850448, 'desert'), (71080.80790902703, 'snow'), (72099.45445702069, 'desert'), (73316.46774770318, 'desert'), (73832.74023764796, 'snow'), (76835.91516992557, 'desert'), (78148.30173458665, 'desert'), (79217.38559811223, 'desert'), (79979.09870084809, 'desert'), (84212.61894158143, 'desert'), (92900.91497934776, 'desert')]\n"
     ]
    }
   ],
   "source": [
    "import numpy as np\n",
    "import pandas as pd\n",
    "import os\n",
    "import cv2\n",
    "import math\n",
    "import matplotlib.pyplot as plt\n",
    "\n",
    "def prec(img1,cls):\n",
    "    a=np.array(img1)\n",
    "    ax = a.reshape(-1, a.shape[-1])\n",
    "    c=ax.flatten() \n",
    "    ret=np.append(c,cls);\n",
    "    return ret;\n",
    "    \n",
    "directory1 = os.listdir('Desert')\n",
    "directory2 = os.listdir('Snow')\n",
    "\n",
    "r=len(directory1)\n",
    "\n",
    "count=0;\n",
    "a = []\n",
    "b = []\n",
    "\n",
    "min1=1434345663567\n",
    "\n",
    "for itr in range(0,r-1):\n",
    "    f1='Desert\\\\'+directory1[itr]\n",
    "    f2='Snow\\\\'+directory2[itr]\n",
    "#     print(f1);\n",
    "#     print(f2);\n",
    "    img1=cv2.imread(f1)\n",
    "    img2=cv2.imread(f2)\n",
    "    temp=prec(img1,\"desert\")\n",
    "    min1=min(min1,temp.shape[0])\n",
    "    a.append(temp)\n",
    "    temp=prec(img2,\"snow\")\n",
    "    min1=min(min1,temp.shape[0])\n",
    "    b.append(temp)\n",
    "#     cv2.imshow('image', img2);\n",
    "#     cv2.imshow('image', img1);\n",
    "#     cv2.waitKey(0)        \n",
    "#     cv2.destroyAllWindows()\n",
    "dis=[]\n",
    "testImg=cv2.imread('test2.jpg')\n",
    "x=prec(testImg,\"no\")\n",
    "min1=min(min1,x.shape[0])\n",
    "dis1=[]\n",
    "dis2=[]\n",
    "for itr in a:\n",
    "    d=0\n",
    "    for itr1 in range(min1-1):\n",
    "        d=d+(int(itr[itr1])-int(x[itr1]))**2\n",
    "    d=math.sqrt(d)\n",
    "    dis1.append(d)\n",
    "    tup=(d,\"desert\")\n",
    "    dis.append(tup)\n",
    "for itr in b:\n",
    "    d=0\n",
    "    for itr1 in range(min1-1):\n",
    "        d=d+(int(itr[itr1])-int(x[itr1]))**2\n",
    "    dis2.append(d)\n",
    "    d=math.sqrt(d)\n",
    "    tup=(d,\"snow\")\n",
    "    dis.append(tup)\n",
    "dis.sort()\n",
    "\n",
    "dCount=0;\n",
    "sCount=0;\n",
    "for itr in range(5):\n",
    "    if dis[itr][1]==\"snow\":\n",
    "        sCount+=1\n",
    "    elif dis[itr][1]==\"desert\":\n",
    "        dCount+=1\n",
    "fig, ax = plt.subplots()\n",
    "zer=np.zeros(9)\n",
    "ax.scatter(dis1,zer,color=\"blue\")\n",
    "ax.scatter(dis2,zer, color=\"red\")\n",
    "plt.show()\n",
    "if(sCount>dCount):\n",
    "    print(\"Snow\")\n",
    "else:\n",
    "    print(\"Desert\")\n",
    "print(dis)\n",
    "    \n",
    "    \n",
    "   \n",
    "\n",
    " \n"
   ]
  },
  {
   "cell_type": "code",
   "execution_count": null,
   "id": "9967f311",
   "metadata": {},
   "outputs": [],
   "source": []
  }
 ],
 "metadata": {
  "kernelspec": {
   "display_name": "Python 3 (ipykernel)",
   "language": "python",
   "name": "python3"
  },
  "language_info": {
   "codemirror_mode": {
    "name": "ipython",
    "version": 3
   },
   "file_extension": ".py",
   "mimetype": "text/x-python",
   "name": "python",
   "nbconvert_exporter": "python",
   "pygments_lexer": "ipython3",
   "version": "3.8.5"
  }
 },
 "nbformat": 4,
 "nbformat_minor": 5
}
